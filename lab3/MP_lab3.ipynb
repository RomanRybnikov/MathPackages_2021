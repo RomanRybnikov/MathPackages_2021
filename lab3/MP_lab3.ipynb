{
 "cells": [
  {
   "cell_type": "markdown",
   "id": "f2b00581",
   "metadata": {},
   "source": [
    "# Лабораторная работа №3.\n",
    "\n",
    "Выполнил: студент группы 9383, Рыбников Роман. \n",
    "\n",
    "Вариант: 55/75.\n",
    "\n",
    "### Цель работы:\n",
    "\n",
    "Практическое применение библиотеки символьных вычислений Python (SymPy) для решения задач дискретной математики и математической логики.\n",
    "\n",
    "### Условие:\n",
    "\n",
    "1. Решить свой вариант диофантова уравнения.\n",
    "2. Имея открытую часть ключа RSA найти соответствующую закрытую часть и расшифровать кодированное слово.\n",
    "3. Записать в формате ДНФ и КНФ булеву функцию, заданную своим аналитическим выражением.\n",
    "\n",
    "\n"
   ]
  },
  {
   "cell_type": "markdown",
   "id": "74545bc4",
   "metadata": {},
   "source": [
    "# 1. Диофантово уравнение.\n",
    "\n",
    "$$777x + 1057y = 63$$"
   ]
  },
  {
   "cell_type": "code",
   "execution_count": 1,
   "id": "df475d72",
   "metadata": {},
   "outputs": [],
   "source": [
    "from sympy.solvers.diophantine import diophantine\n",
    "from sympy import symbols\n",
    "from sympy.crypto.crypto import rsa_private_key, decipher_rsa\n",
    "from sympy.logic.boolalg import *"
   ]
  },
  {
   "cell_type": "code",
   "execution_count": 2,
   "id": "9e9c4821",
   "metadata": {},
   "outputs": [
    {
     "name": "stdout",
     "output_type": "stream",
     "text": [
      "Resolve:\n",
      "\n",
      "x = 151*t_0 - 306 \t y = 225 - 111*t_0\n"
     ]
    }
   ],
   "source": [
    "x, y = symbols('x y')\n",
    "result = tuple(diophantine(777*x + 1057*y -63))[0]\n",
    "print(\"Resolve:\\n\")\n",
    "print(f\"x = {result[0]} \\t y = {result[1]}\")"
   ]
  },
  {
   "cell_type": "markdown",
   "id": "6dbf6900",
   "metadata": {},
   "source": [
    "# 2. Имея открытую часть ключа RSA найти соответствующую закрытую часть и расшифровать кодированное слово."
   ]
  },
  {
   "cell_type": "markdown",
   "id": "589ea550",
   "metadata": {},
   "source": [
    "Русское слово из четырех букв закодировано при помощи алгоритма RSA открытым ключом $(e = 15, m = 46)$. Шифрованное сообщение имеет вид $(16;8;37;23)$. Подберите закрытую часть ключа и прочитайте исходное слово. Буквам русского алфавита соответствуют числа в диапазоне от 2 до 32 (исключены буквы \"ё\" и \"ъ\")."
   ]
  },
  {
   "cell_type": "code",
   "execution_count": 3,
   "id": "5ccf4acf",
   "metadata": {},
   "outputs": [
    {
     "name": "stdout",
     "output_type": "stream",
     "text": [
      "Result: = адех\n"
     ]
    }
   ],
   "source": [
    "key = rsa_private_key(46, 15)\n",
    "\n",
    "msg = [16, 8, 37, 23]\n",
    "alphabet = ['а', 'б', 'в', 'г', 'д', 'е', 'ж', 'з', 'и', 'й', 'к', 'л', 'м', 'н', 'о', 'п','р', 'с', 'т', 'у', 'ф', 'х', 'ц', 'ч', 'ш', 'щ', 'ы', 'ь', 'э', 'ю', 'я']\n",
    "\n",
    "result = [alphabet[decipher_rsa(i, key)-2] for i in msg]\n",
    "print(f\"Result: = {''.join(result)}\")"
   ]
  },
  {
   "cell_type": "markdown",
   "id": "57452e78",
   "metadata": {},
   "source": [
    "# 3. Преобразование булевой функции."
   ]
  },
  {
   "cell_type": "markdown",
   "id": "c796cf51",
   "metadata": {},
   "source": [
    "$$f(x,y,z) = \\Big(\\big(z \\oplus y\\big) \\vee \\big(y \\oplus x\\big) \\vee \\big((zx)\\oplus(yz)\\big)\\Big)$$"
   ]
  },
  {
   "cell_type": "code",
   "execution_count": 4,
   "id": "02d47fa0",
   "metadata": {},
   "outputs": [
    {
     "name": "stdout",
     "output_type": "stream",
     "text": [
      "ДНФ:  (x & ~y) | (y & ~z) | (z & ~x)\n",
      "КНФ:  (x | y | z) & (~x | ~y | ~z)\n"
     ]
    }
   ],
   "source": [
    "x,y,z = symbols('x y z')\n",
    "\n",
    "foo = ((z ^ y) | (y ^ x) | ((z&x) ^ (y&z)))\n",
    "\n",
    "dnf = to_dnf(foo, simplify=True)\n",
    "cnf = to_cnf(foo, simplify=True)\n",
    "\n",
    "print(\"ДНФ: \", dnf)\n",
    "print(\"КНФ: \", cnf)"
   ]
  },
  {
   "cell_type": "markdown",
   "id": "170e0ab9",
   "metadata": {},
   "source": [
    "# Итог.\n",
    "\n",
    "При выполнении лабораторной работы были изучены функции библиотеки Языка Программирования Python SymPy для решения задач дискретной математики и математической логики."
   ]
  }
 ],
 "metadata": {
  "kernelspec": {
   "display_name": "Python 3",
   "language": "python",
   "name": "python3"
  },
  "language_info": {
   "codemirror_mode": {
    "name": "ipython",
    "version": 3
   },
   "file_extension": ".py",
   "mimetype": "text/x-python",
   "name": "python",
   "nbconvert_exporter": "python",
   "pygments_lexer": "ipython3",
   "version": "3.8.5"
  }
 },
 "nbformat": 4,
 "nbformat_minor": 5
}
